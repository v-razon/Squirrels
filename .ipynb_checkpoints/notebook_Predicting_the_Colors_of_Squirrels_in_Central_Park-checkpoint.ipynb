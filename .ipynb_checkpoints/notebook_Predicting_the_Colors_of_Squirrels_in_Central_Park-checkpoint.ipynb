{
 "cells": [
  {
   "cell_type": "code",
   "execution_count": null,
   "id": "c76f6daa",
   "metadata": {},
   "outputs": [],
   "source": [
    "# PROJECT: Predicting the Colors of Squirrels of Central Park\n",
    "# By Vanessa Razon\n",
    "#Student ID: 40033699\n",
    "\n",
    "# LOAD PACKAGES AND DATA\n",
    "import pandas as pd\n",
    "import numpy as np\n",
    "import scikit-learn \n",
    "import pytorch as torch"
   ]
  },
  {
   "cell_type": "code",
   "execution_count": null,
   "id": "09afb78f",
   "metadata": {},
   "outputs": [],
   "source": [
    "# PREPROCESS THE DATASET"
   ]
  },
  {
   "cell_type": "code",
   "execution_count": null,
   "id": "a1cd5e0e",
   "metadata": {},
   "outputs": [],
   "source": [
    "# MULTICLASS LOGISTIC REGRESSION FCT"
   ]
  },
  {
   "cell_type": "code",
   "execution_count": null,
   "id": "e2967072",
   "metadata": {},
   "outputs": [],
   "source": [
    "# MLP FCT"
   ]
  },
  {
   "cell_type": "code",
   "execution_count": null,
   "id": "8684229a",
   "metadata": {},
   "outputs": [],
   "source": [
    "# SVM FCT"
   ]
  },
  {
   "cell_type": "code",
   "execution_count": null,
   "id": "909d41d3",
   "metadata": {},
   "outputs": [],
   "source": [
    "# DECISION TREE FCT?"
   ]
  },
  {
   "cell_type": "code",
   "execution_count": null,
   "id": "e529e439",
   "metadata": {},
   "outputs": [],
   "source": [
    "# RUN ALL THE MACHINE LEARNING MODELS\n",
    "\n",
    "# Multiclass Logistic Regression\n",
    "\n",
    "# Multi-layer perceptron\n",
    "\n",
    "# Support-vector machine\n",
    "\n",
    "# Decision tree\n"
   ]
  },
  {
   "cell_type": "code",
   "execution_count": null,
   "id": "c933380c",
   "metadata": {},
   "outputs": [],
   "source": []
  },
  {
   "cell_type": "code",
   "execution_count": null,
   "id": "6024d57b",
   "metadata": {},
   "outputs": [],
   "source": [
    "# POSSIBLE MODELS TO CONSIDER: \n",
    "    # k-Nearest Neighbors.\n",
    "    # Decision Trees.\n",
    "    # Naive Bayes.\n",
    "    # Random Forest.\n",
    "    # Gradient Boosting."
   ]
  }
 ],
 "metadata": {
  "kernelspec": {
   "display_name": "Python 3",
   "language": "python",
   "name": "python3"
  },
  "language_info": {
   "codemirror_mode": {
    "name": "ipython",
    "version": 3
   },
   "file_extension": ".py",
   "mimetype": "text/x-python",
   "name": "python",
   "nbconvert_exporter": "python",
   "pygments_lexer": "ipython3",
   "version": "3.8.8"
  }
 },
 "nbformat": 4,
 "nbformat_minor": 5
}
